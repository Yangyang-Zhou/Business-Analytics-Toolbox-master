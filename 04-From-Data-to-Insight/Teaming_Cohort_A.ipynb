{
  "nbformat": 4,
  "nbformat_minor": 0,
  "metadata": {
    "kernelspec": {
      "display_name": "Python 3",
      "language": "python",
      "name": "python3"
    },
    "language_info": {
      "codemirror_mode": {
        "name": "ipython",
        "version": 3
      },
      "file_extension": ".py",
      "mimetype": "text/x-python",
      "name": "python",
      "nbconvert_exporter": "python",
      "pygments_lexer": "ipython3",
      "version": "3.5.6"
    },
    "colab": {
      "name": "Teaming-Cohort-A.ipynb",
      "provenance": [],
      "collapsed_sections": []
    }
  },
  "cells": [
    {
      "cell_type": "markdown",
      "metadata": {
        "id": "SUaLkhkS3sRt"
      },
      "source": [
        "# Team Assignment - Cohort A\n",
        "First we pick a seed for a complete random assignment:"
      ]
    },
    {
      "cell_type": "code",
      "metadata": {
        "id": "1RqJ8xkj3sRt"
      },
      "source": [
        "seed = 45+60+68+77+98+666\n",
        "n_leads_needed = 0  # beyond the volunteer leads"
      ],
      "execution_count": null,
      "outputs": []
    },
    {
      "cell_type": "code",
      "metadata": {
        "id": "nKgtzwyHH3ws",
        "outputId": "b2d9727c-03cc-4f6e-b1c1-beac3aa98807",
        "colab": {
          "base_uri": "https://localhost:8080/",
          "height": 35
        }
      },
      "source": [
        "seed"
      ],
      "execution_count": null,
      "outputs": [
        {
          "output_type": "execute_result",
          "data": {
            "text/plain": [
              "1014"
            ]
          },
          "metadata": {
            "tags": []
          },
          "execution_count": 2
        }
      ]
    },
    {
      "cell_type": "code",
      "metadata": {
        "id": "daIZQTIX5rN0"
      },
      "source": [
        "!pip install --upgrade -q gspread"
      ],
      "execution_count": null,
      "outputs": []
    },
    {
      "cell_type": "code",
      "metadata": {
        "id": "9jETjgS65rNL"
      },
      "source": [
        "from google.colab import auth\n",
        "auth.authenticate_user()\n",
        "\n",
        "import gspread\n",
        "from oauth2client.client import GoogleCredentials\n",
        "\n",
        "gc = gspread.authorize(GoogleCredentials.get_application_default())"
      ],
      "execution_count": null,
      "outputs": []
    },
    {
      "cell_type": "code",
      "metadata": {
        "id": "lpkV75y25-cg"
      },
      "source": [
        "worksheet = gc.open('Class List - Cohorts A & B').sheet1"
      ],
      "execution_count": null,
      "outputs": []
    },
    {
      "cell_type": "code",
      "metadata": {
        "id": "QoLryYTTGmol"
      },
      "source": [
        "rows = worksheet.get_all_values()\n",
        "\n",
        "# Convert to a DataFrame and render.\n",
        "import pandas as pd\n",
        "students = pd.DataFrame.from_records(rows[1:], columns=rows[0])\n",
        "students = students[students['Cohort'] == 'A']\n",
        "students.reset_index(inplace=True)\n",
        "students['name'] = students['Student First'] + ' ' + students['Student Last']\n",
        "students = students[['name', 'email', 'team']]\n",
        "students['team'] = students['team'].astype('bool')\n",
        "students"
      ],
      "execution_count": null,
      "outputs": []
    },
    {
      "cell_type": "markdown",
      "metadata": {
        "id": "11ZF-wac3sR1"
      },
      "source": [
        "## Leads\n",
        "Volunteer leads:"
      ]
    },
    {
      "cell_type": "code",
      "metadata": {
        "id": "8NLvX34pGoe3"
      },
      "source": [
        "volunteer_leads = students[students['team'] == True][['name']]\n",
        "volunteer_leads"
      ],
      "execution_count": null,
      "outputs": []
    },
    {
      "cell_type": "markdown",
      "metadata": {
        "id": "smiGtWkA3sR3"
      },
      "source": [
        "Leads picked by a random generator:"
      ]
    },
    {
      "cell_type": "code",
      "metadata": {
        "id": "-tvRDPUaGqR3"
      },
      "source": [
        "random_leads = students[students['team'] == False][['name']].sample(n=n_leads_needed, random_state=seed)['name']\n",
        "leads = pd.concat([volunteer_leads['name'], random_leads])\n",
        "leads = leads.sample(frac=1, random_state=seed).reset_index()[['name']]\n",
        "\n",
        "leads = pd.DataFrame({'name': leads['name'].tolist()}, index=pd.Series(range(1,9)))\n",
        "leads.index.name = 'team'\n",
        "print('List of leads:')\n",
        "leads"
      ],
      "execution_count": null,
      "outputs": []
    },
    {
      "cell_type": "code",
      "metadata": {
        "id": "1Tfr3ySPGt_U"
      },
      "source": [
        "leads_l = list(leads['name'])\n",
        "students.loc[students['name'].isin(leads_l), 'team'] = True\n",
        "teams = pd.DataFrame()\n",
        "\n",
        "for i, leader in enumerate(leads_l):\n",
        "  take_n = 4\n",
        "  if i < (students.shape[0] % (take_n+1)): take_n += 1\n",
        "  lead_ = students[students['name'] == leader][['name', 'email']]\n",
        "  team_tmp = students[students['team'] == False][['name', 'email']].sample(n=take_n, random_state=seed)\n",
        "  students.loc[students['name'].isin(team_tmp['name']), 'team'] = True\n",
        "  team_tmp = pd.concat([lead_, team_tmp])\n",
        "  team_tmp['team'] = i+1\n",
        "  \n",
        "  teams = pd.concat([teams, team_tmp])\n",
        "teams = teams.reset_index(drop=True)\n",
        "print(teams)"
      ],
      "execution_count": null,
      "outputs": []
    },
    {
      "cell_type": "code",
      "metadata": {
        "id": "YZppg2Gv-3AE"
      },
      "source": [
        "teams.to_csv('teams_cohort_A.csv', index=False)"
      ],
      "execution_count": null,
      "outputs": []
    }
  ]
}